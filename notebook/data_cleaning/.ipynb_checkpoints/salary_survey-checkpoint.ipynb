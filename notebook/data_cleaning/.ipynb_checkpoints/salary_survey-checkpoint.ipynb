{
 "cells": [
  {
   "cell_type": "code",
   "execution_count": 1,
   "metadata": {},
   "outputs": [],
   "source": [
    "import pandas as pd\n",
    "import numpy as np\n",
    "import seaborn as sns\n",
    "import re\n",
    "import matplotlib.pyplot as plt\n",
    "\n",
    "df1 = pd.read_excel(\"/home/apprenant/american_dream_db/Data/01_raw/data_professionnal_salary_survey.xlsx\", skiprows=3)\n",
    "pd.set_option('max_columns', None)"
   ]
  },
  {
   "cell_type": "code",
   "execution_count": 2,
   "metadata": {},
   "outputs": [],
   "source": [
    "def boxplot_viz(column_name,size=(10,10), ratio=[5,95]):\n",
    "    df1.boxplot(column=column_name,figsize=size,\n",
    "                   whis=ratio, return_type='axes') # We identify outliers values with whis ratio (= 5% top and bottom values)"
   ]
  },
  {
   "cell_type": "markdown",
   "metadata": {},
   "source": [
    "## Columns selection"
   ]
  },
  {
   "cell_type": "code",
   "execution_count": 3,
   "metadata": {
    "scrolled": true
   },
   "outputs": [
    {
     "data": {
      "text/html": [
       "<div>\n",
       "<style scoped>\n",
       "    .dataframe tbody tr th:only-of-type {\n",
       "        vertical-align: middle;\n",
       "    }\n",
       "\n",
       "    .dataframe tbody tr th {\n",
       "        vertical-align: top;\n",
       "    }\n",
       "\n",
       "    .dataframe thead th {\n",
       "        text-align: right;\n",
       "    }\n",
       "</style>\n",
       "<table border=\"1\" class=\"dataframe\">\n",
       "  <thead>\n",
       "    <tr style=\"text-align: right;\">\n",
       "      <th></th>\n",
       "      <th>Survey Year</th>\n",
       "      <th>Timestamp</th>\n",
       "      <th>SalaryUSD</th>\n",
       "      <th>Country</th>\n",
       "      <th>PostalCode</th>\n",
       "      <th>PrimaryDatabase</th>\n",
       "      <th>YearsWithThisDatabase</th>\n",
       "      <th>OtherDatabases</th>\n",
       "      <th>EmploymentStatus</th>\n",
       "      <th>JobTitle</th>\n",
       "      <th>ManageStaff</th>\n",
       "      <th>YearsWithThisTypeOfJob</th>\n",
       "      <th>HowManyCompanies</th>\n",
       "      <th>OtherPeopleOnYourTeam</th>\n",
       "      <th>CompanyEmployeesOverall</th>\n",
       "      <th>DatabaseServers</th>\n",
       "      <th>Education</th>\n",
       "      <th>EducationIsComputerRelated</th>\n",
       "      <th>Certifications</th>\n",
       "      <th>HoursWorkedPerWeek</th>\n",
       "      <th>TelecommuteDaysPerWeek</th>\n",
       "      <th>NewestVersionInProduction</th>\n",
       "      <th>OldestVersionInProduction</th>\n",
       "      <th>PopulationOfLargestCityWithin20Miles</th>\n",
       "      <th>EmploymentSector</th>\n",
       "      <th>LookingForAnotherJob</th>\n",
       "      <th>CareerPlansThisYear</th>\n",
       "      <th>Gender</th>\n",
       "      <th>OtherJobDuties</th>\n",
       "      <th>KindsOfTasksPerformed</th>\n",
       "      <th>Counter</th>\n",
       "    </tr>\n",
       "  </thead>\n",
       "  <tbody>\n",
       "    <tr>\n",
       "      <th>0</th>\n",
       "      <td>2020</td>\n",
       "      <td>2020-01-04 18:50:34.328</td>\n",
       "      <td>115000.0</td>\n",
       "      <td>United States</td>\n",
       "      <td>03</td>\n",
       "      <td>Microsoft SQL Server</td>\n",
       "      <td>15</td>\n",
       "      <td>Microsoft SQL Server, MongoDB, Azure SQL DB (a...</td>\n",
       "      <td>Full time employee</td>\n",
       "      <td>DBA (Production Focus - build &amp; troubleshoot s...</td>\n",
       "      <td>No</td>\n",
       "      <td>5</td>\n",
       "      <td>1 (this is the only company where I've had thi...</td>\n",
       "      <td>2</td>\n",
       "      <td>Not Asked</td>\n",
       "      <td>500</td>\n",
       "      <td>Not Asked</td>\n",
       "      <td>Not Asked</td>\n",
       "      <td>Not Asked</td>\n",
       "      <td>Not Asked</td>\n",
       "      <td>Not Asked</td>\n",
       "      <td>SQL Server 2019</td>\n",
       "      <td>SQL Server 2016</td>\n",
       "      <td>20K-99K (large town)</td>\n",
       "      <td>Private business</td>\n",
       "      <td>Not Asked</td>\n",
       "      <td>Stay with the same employer, same role</td>\n",
       "      <td>Male</td>\n",
       "      <td>Not Asked</td>\n",
       "      <td>Not Asked</td>\n",
       "      <td>1</td>\n",
       "    </tr>\n",
       "    <tr>\n",
       "      <th>1</th>\n",
       "      <td>2020</td>\n",
       "      <td>2020-01-04 10:43:01.821</td>\n",
       "      <td>100000.0</td>\n",
       "      <td>United States</td>\n",
       "      <td>NaN</td>\n",
       "      <td>Other</td>\n",
       "      <td>6</td>\n",
       "      <td>MySQL/MariaDB</td>\n",
       "      <td>Full time employee</td>\n",
       "      <td>Developer: App code (C#, JS, etc)</td>\n",
       "      <td>No</td>\n",
       "      <td>6</td>\n",
       "      <td>1 (this is the only company where I've had thi...</td>\n",
       "      <td>More than 5</td>\n",
       "      <td>Not Asked</td>\n",
       "      <td>1</td>\n",
       "      <td>Not Asked</td>\n",
       "      <td>Not Asked</td>\n",
       "      <td>Not Asked</td>\n",
       "      <td>Not Asked</td>\n",
       "      <td>Not Asked</td>\n",
       "      <td>informix</td>\n",
       "      <td>informix</td>\n",
       "      <td>1M+ (metropolis)</td>\n",
       "      <td>Private business</td>\n",
       "      <td>Not Asked</td>\n",
       "      <td>Prefer not to say</td>\n",
       "      <td>Male</td>\n",
       "      <td>Not Asked</td>\n",
       "      <td>Not Asked</td>\n",
       "      <td>1</td>\n",
       "    </tr>\n",
       "    <tr>\n",
       "      <th>2</th>\n",
       "      <td>2020</td>\n",
       "      <td>2020-01-04 09:51:45.885</td>\n",
       "      <td>100000.0</td>\n",
       "      <td>Spain</td>\n",
       "      <td>28046</td>\n",
       "      <td>Microsoft SQL Server</td>\n",
       "      <td>2</td>\n",
       "      <td>MySQL/MariaDB</td>\n",
       "      <td>Full time employee</td>\n",
       "      <td>Other</td>\n",
       "      <td>Yes</td>\n",
       "      <td>3</td>\n",
       "      <td>1 (this is the only company where I've had thi...</td>\n",
       "      <td>1</td>\n",
       "      <td>Not Asked</td>\n",
       "      <td>1</td>\n",
       "      <td>Not Asked</td>\n",
       "      <td>Not Asked</td>\n",
       "      <td>Not Asked</td>\n",
       "      <td>Not Asked</td>\n",
       "      <td>Not Asked</td>\n",
       "      <td>SQL Server 2017</td>\n",
       "      <td>SQL Server 2017</td>\n",
       "      <td>1M+ (metropolis)</td>\n",
       "      <td>Private business</td>\n",
       "      <td>Not Asked</td>\n",
       "      <td>Stay with the same employer, same role</td>\n",
       "      <td>Male</td>\n",
       "      <td>Not Asked</td>\n",
       "      <td>Not Asked</td>\n",
       "      <td>1</td>\n",
       "    </tr>\n",
       "    <tr>\n",
       "      <th>3</th>\n",
       "      <td>2020</td>\n",
       "      <td>2020-01-04 01:08:53.605</td>\n",
       "      <td>70000.0</td>\n",
       "      <td>United States</td>\n",
       "      <td>94133</td>\n",
       "      <td>Microsoft SQL Server</td>\n",
       "      <td>3</td>\n",
       "      <td>Microsoft Access</td>\n",
       "      <td>Full time employee</td>\n",
       "      <td>Analyst</td>\n",
       "      <td>No</td>\n",
       "      <td>3</td>\n",
       "      <td>1 (this is the only company where I've had thi...</td>\n",
       "      <td>2</td>\n",
       "      <td>Not Asked</td>\n",
       "      <td>3</td>\n",
       "      <td>Not Asked</td>\n",
       "      <td>Not Asked</td>\n",
       "      <td>Not Asked</td>\n",
       "      <td>Not Asked</td>\n",
       "      <td>Not Asked</td>\n",
       "      <td>SQL Server 2016</td>\n",
       "      <td>SQL Server 2012</td>\n",
       "      <td>1M+ (metropolis)</td>\n",
       "      <td>Private business</td>\n",
       "      <td>Not Asked</td>\n",
       "      <td>Change both employers and roles</td>\n",
       "      <td>Male</td>\n",
       "      <td>Not Asked</td>\n",
       "      <td>Not Asked</td>\n",
       "      <td>1</td>\n",
       "    </tr>\n",
       "    <tr>\n",
       "      <th>4</th>\n",
       "      <td>2020</td>\n",
       "      <td>2020-01-03 15:28:54.163</td>\n",
       "      <td>110000.0</td>\n",
       "      <td>United States</td>\n",
       "      <td>95354</td>\n",
       "      <td>Oracle</td>\n",
       "      <td>30</td>\n",
       "      <td>Microsoft SQL Server, Oracle, MySQL/MariaDB, P...</td>\n",
       "      <td>Full time employee</td>\n",
       "      <td>DBA (General - splits time evenly between writ...</td>\n",
       "      <td>No</td>\n",
       "      <td>25</td>\n",
       "      <td>3</td>\n",
       "      <td>None</td>\n",
       "      <td>Not Asked</td>\n",
       "      <td>45</td>\n",
       "      <td>Not Asked</td>\n",
       "      <td>Not Asked</td>\n",
       "      <td>Not Asked</td>\n",
       "      <td>Not Asked</td>\n",
       "      <td>Not Asked</td>\n",
       "      <td>SQL Server 2016</td>\n",
       "      <td>SQL Server 2008R2</td>\n",
       "      <td>100K-299K (city)</td>\n",
       "      <td>Non-profit</td>\n",
       "      <td>Not Asked</td>\n",
       "      <td>Stay with the same employer, same role</td>\n",
       "      <td>Male</td>\n",
       "      <td>Not Asked</td>\n",
       "      <td>Not Asked</td>\n",
       "      <td>1</td>\n",
       "    </tr>\n",
       "    <tr>\n",
       "      <th>5</th>\n",
       "      <td>2020</td>\n",
       "      <td>2020-01-03 15:06:14.882</td>\n",
       "      <td>79500.0</td>\n",
       "      <td>United States</td>\n",
       "      <td>78727</td>\n",
       "      <td>Oracle</td>\n",
       "      <td>2</td>\n",
       "      <td>NaN</td>\n",
       "      <td>Full time employee</td>\n",
       "      <td>Analyst</td>\n",
       "      <td>No</td>\n",
       "      <td>2</td>\n",
       "      <td>1 (this is the only company where I've had thi...</td>\n",
       "      <td>None</td>\n",
       "      <td>Not Asked</td>\n",
       "      <td>4</td>\n",
       "      <td>Not Asked</td>\n",
       "      <td>Not Asked</td>\n",
       "      <td>Not Asked</td>\n",
       "      <td>Not Asked</td>\n",
       "      <td>Not Asked</td>\n",
       "      <td>Oracle R12</td>\n",
       "      <td>Oracle 11g</td>\n",
       "      <td>1M+ (metropolis)</td>\n",
       "      <td>Private business</td>\n",
       "      <td>Not Asked</td>\n",
       "      <td>Stay with the same employer, same role</td>\n",
       "      <td>Male</td>\n",
       "      <td>Not Asked</td>\n",
       "      <td>Not Asked</td>\n",
       "      <td>1</td>\n",
       "    </tr>\n",
       "    <tr>\n",
       "      <th>6</th>\n",
       "      <td>2020</td>\n",
       "      <td>2020-01-03 07:15:50.654</td>\n",
       "      <td>110000.0</td>\n",
       "      <td>United States</td>\n",
       "      <td>14216</td>\n",
       "      <td>Other</td>\n",
       "      <td>4</td>\n",
       "      <td>Microsoft SQL Server, Oracle, MySQL/MariaDB, S...</td>\n",
       "      <td>Full time employee</td>\n",
       "      <td>DBA (General - splits time evenly between writ...</td>\n",
       "      <td>No</td>\n",
       "      <td>4</td>\n",
       "      <td>1 (this is the only company where I've had thi...</td>\n",
       "      <td>More than 5</td>\n",
       "      <td>Not Asked</td>\n",
       "      <td>500</td>\n",
       "      <td>Not Asked</td>\n",
       "      <td>Not Asked</td>\n",
       "      <td>Not Asked</td>\n",
       "      <td>Not Asked</td>\n",
       "      <td>Not Asked</td>\n",
       "      <td>SQL Server 2016</td>\n",
       "      <td>SQL Server 2008R2</td>\n",
       "      <td>100K-299K (city)</td>\n",
       "      <td>Private business</td>\n",
       "      <td>Not Asked</td>\n",
       "      <td>Stay with the same employer,  but change roles</td>\n",
       "      <td>Male</td>\n",
       "      <td>Not Asked</td>\n",
       "      <td>Not Asked</td>\n",
       "      <td>1</td>\n",
       "    </tr>\n",
       "    <tr>\n",
       "      <th>7</th>\n",
       "      <td>2020</td>\n",
       "      <td>2020-01-03 06:05:41.312</td>\n",
       "      <td>39000.0</td>\n",
       "      <td>Portugal</td>\n",
       "      <td>1000 Lisboa</td>\n",
       "      <td>Microsoft SQL Server</td>\n",
       "      <td>15</td>\n",
       "      <td>NaN</td>\n",
       "      <td>Full time employee of a consulting/contracting...</td>\n",
       "      <td>Developer: App code (C#, JS, etc)</td>\n",
       "      <td>Yes</td>\n",
       "      <td>15</td>\n",
       "      <td>1 (this is the only company where I've had thi...</td>\n",
       "      <td>None</td>\n",
       "      <td>Not Asked</td>\n",
       "      <td>4</td>\n",
       "      <td>Not Asked</td>\n",
       "      <td>Not Asked</td>\n",
       "      <td>Not Asked</td>\n",
       "      <td>Not Asked</td>\n",
       "      <td>Not Asked</td>\n",
       "      <td>SQL Server 2016</td>\n",
       "      <td>SQL Server 2000</td>\n",
       "      <td>300K-1M (large city)</td>\n",
       "      <td>Private business</td>\n",
       "      <td>Not Asked</td>\n",
       "      <td>Stay with the same employer, same role</td>\n",
       "      <td>Male</td>\n",
       "      <td>Not Asked</td>\n",
       "      <td>Not Asked</td>\n",
       "      <td>1</td>\n",
       "    </tr>\n",
       "    <tr>\n",
       "      <th>8</th>\n",
       "      <td>2020</td>\n",
       "      <td>2020-01-02 23:30:37.902</td>\n",
       "      <td>58000.0</td>\n",
       "      <td>United States</td>\n",
       "      <td>85716</td>\n",
       "      <td>Microsoft SQL Server</td>\n",
       "      <td>1</td>\n",
       "      <td>NaN</td>\n",
       "      <td>Full time employee</td>\n",
       "      <td>Developer: Business Intelligence (SSRS, PowerB...</td>\n",
       "      <td>No</td>\n",
       "      <td>1</td>\n",
       "      <td>1 (this is the only company where I've had thi...</td>\n",
       "      <td>None</td>\n",
       "      <td>Not Asked</td>\n",
       "      <td>3</td>\n",
       "      <td>Not Asked</td>\n",
       "      <td>Not Asked</td>\n",
       "      <td>Not Asked</td>\n",
       "      <td>Not Asked</td>\n",
       "      <td>Not Asked</td>\n",
       "      <td>SQL Server 2016</td>\n",
       "      <td>SQL Server 2016</td>\n",
       "      <td>300K-1M (large city)</td>\n",
       "      <td>Education (K-12, college, university)</td>\n",
       "      <td>Not Asked</td>\n",
       "      <td>Stay with the same employer, same role</td>\n",
       "      <td>Male</td>\n",
       "      <td>Not Asked</td>\n",
       "      <td>Not Asked</td>\n",
       "      <td>1</td>\n",
       "    </tr>\n",
       "    <tr>\n",
       "      <th>9</th>\n",
       "      <td>2020</td>\n",
       "      <td>2020-01-02 23:08:07.384</td>\n",
       "      <td>125000.0</td>\n",
       "      <td>United States</td>\n",
       "      <td>NaN</td>\n",
       "      <td>Microsoft SQL Server</td>\n",
       "      <td>6</td>\n",
       "      <td>MySQL/MariaDB, Microsoft Access, SQLite, Terad...</td>\n",
       "      <td>Full time employee</td>\n",
       "      <td>Engineer</td>\n",
       "      <td>No</td>\n",
       "      <td>4</td>\n",
       "      <td>2 (I worked at another similar position elsewh...</td>\n",
       "      <td>2</td>\n",
       "      <td>Not Asked</td>\n",
       "      <td>9</td>\n",
       "      <td>Not Asked</td>\n",
       "      <td>Not Asked</td>\n",
       "      <td>Not Asked</td>\n",
       "      <td>Not Asked</td>\n",
       "      <td>Not Asked</td>\n",
       "      <td>SQL Server 2016</td>\n",
       "      <td>SQL Server 2016</td>\n",
       "      <td>100K-299K (city)</td>\n",
       "      <td>Private business</td>\n",
       "      <td>Not Asked</td>\n",
       "      <td>Stay with the same employer, same role</td>\n",
       "      <td>Male</td>\n",
       "      <td>Not Asked</td>\n",
       "      <td>Not Asked</td>\n",
       "      <td>1</td>\n",
       "    </tr>\n",
       "  </tbody>\n",
       "</table>\n",
       "</div>"
      ],
      "text/plain": [
       "   Survey Year               Timestamp  SalaryUSD        Country   PostalCode  \\\n",
       "0         2020 2020-01-04 18:50:34.328   115000.0  United States           03   \n",
       "1         2020 2020-01-04 10:43:01.821   100000.0  United States          NaN   \n",
       "2         2020 2020-01-04 09:51:45.885   100000.0          Spain        28046   \n",
       "3         2020 2020-01-04 01:08:53.605    70000.0  United States        94133   \n",
       "4         2020 2020-01-03 15:28:54.163   110000.0  United States        95354   \n",
       "5         2020 2020-01-03 15:06:14.882    79500.0  United States        78727   \n",
       "6         2020 2020-01-03 07:15:50.654   110000.0  United States        14216   \n",
       "7         2020 2020-01-03 06:05:41.312    39000.0       Portugal  1000 Lisboa   \n",
       "8         2020 2020-01-02 23:30:37.902    58000.0  United States        85716   \n",
       "9         2020 2020-01-02 23:08:07.384   125000.0  United States          NaN   \n",
       "\n",
       "        PrimaryDatabase  YearsWithThisDatabase  \\\n",
       "0  Microsoft SQL Server                     15   \n",
       "1                 Other                      6   \n",
       "2  Microsoft SQL Server                      2   \n",
       "3  Microsoft SQL Server                      3   \n",
       "4                Oracle                     30   \n",
       "5                Oracle                      2   \n",
       "6                 Other                      4   \n",
       "7  Microsoft SQL Server                     15   \n",
       "8  Microsoft SQL Server                      1   \n",
       "9  Microsoft SQL Server                      6   \n",
       "\n",
       "                                      OtherDatabases  \\\n",
       "0  Microsoft SQL Server, MongoDB, Azure SQL DB (a...   \n",
       "1                                      MySQL/MariaDB   \n",
       "2                                      MySQL/MariaDB   \n",
       "3                                   Microsoft Access   \n",
       "4  Microsoft SQL Server, Oracle, MySQL/MariaDB, P...   \n",
       "5                                                NaN   \n",
       "6  Microsoft SQL Server, Oracle, MySQL/MariaDB, S...   \n",
       "7                                                NaN   \n",
       "8                                                NaN   \n",
       "9  MySQL/MariaDB, Microsoft Access, SQLite, Terad...   \n",
       "\n",
       "                                    EmploymentStatus  \\\n",
       "0                                 Full time employee   \n",
       "1                                 Full time employee   \n",
       "2                                 Full time employee   \n",
       "3                                 Full time employee   \n",
       "4                                 Full time employee   \n",
       "5                                 Full time employee   \n",
       "6                                 Full time employee   \n",
       "7  Full time employee of a consulting/contracting...   \n",
       "8                                 Full time employee   \n",
       "9                                 Full time employee   \n",
       "\n",
       "                                            JobTitle ManageStaff  \\\n",
       "0  DBA (Production Focus - build & troubleshoot s...          No   \n",
       "1                  Developer: App code (C#, JS, etc)          No   \n",
       "2                                              Other         Yes   \n",
       "3                                            Analyst          No   \n",
       "4  DBA (General - splits time evenly between writ...          No   \n",
       "5                                            Analyst          No   \n",
       "6  DBA (General - splits time evenly between writ...          No   \n",
       "7                  Developer: App code (C#, JS, etc)         Yes   \n",
       "8  Developer: Business Intelligence (SSRS, PowerB...          No   \n",
       "9                                           Engineer          No   \n",
       "\n",
       "   YearsWithThisTypeOfJob                                   HowManyCompanies  \\\n",
       "0                       5  1 (this is the only company where I've had thi...   \n",
       "1                       6  1 (this is the only company where I've had thi...   \n",
       "2                       3  1 (this is the only company where I've had thi...   \n",
       "3                       3  1 (this is the only company where I've had thi...   \n",
       "4                      25                                                  3   \n",
       "5                       2  1 (this is the only company where I've had thi...   \n",
       "6                       4  1 (this is the only company where I've had thi...   \n",
       "7                      15  1 (this is the only company where I've had thi...   \n",
       "8                       1  1 (this is the only company where I've had thi...   \n",
       "9                       4  2 (I worked at another similar position elsewh...   \n",
       "\n",
       "  OtherPeopleOnYourTeam CompanyEmployeesOverall  DatabaseServers  Education  \\\n",
       "0                     2               Not Asked              500  Not Asked   \n",
       "1           More than 5               Not Asked                1  Not Asked   \n",
       "2                     1               Not Asked                1  Not Asked   \n",
       "3                     2               Not Asked                3  Not Asked   \n",
       "4                  None               Not Asked               45  Not Asked   \n",
       "5                  None               Not Asked                4  Not Asked   \n",
       "6           More than 5               Not Asked              500  Not Asked   \n",
       "7                  None               Not Asked                4  Not Asked   \n",
       "8                  None               Not Asked                3  Not Asked   \n",
       "9                     2               Not Asked                9  Not Asked   \n",
       "\n",
       "  EducationIsComputerRelated Certifications HoursWorkedPerWeek  \\\n",
       "0                  Not Asked      Not Asked          Not Asked   \n",
       "1                  Not Asked      Not Asked          Not Asked   \n",
       "2                  Not Asked      Not Asked          Not Asked   \n",
       "3                  Not Asked      Not Asked          Not Asked   \n",
       "4                  Not Asked      Not Asked          Not Asked   \n",
       "5                  Not Asked      Not Asked          Not Asked   \n",
       "6                  Not Asked      Not Asked          Not Asked   \n",
       "7                  Not Asked      Not Asked          Not Asked   \n",
       "8                  Not Asked      Not Asked          Not Asked   \n",
       "9                  Not Asked      Not Asked          Not Asked   \n",
       "\n",
       "  TelecommuteDaysPerWeek NewestVersionInProduction OldestVersionInProduction  \\\n",
       "0              Not Asked           SQL Server 2019           SQL Server 2016   \n",
       "1              Not Asked                  informix                  informix   \n",
       "2              Not Asked           SQL Server 2017           SQL Server 2017   \n",
       "3              Not Asked           SQL Server 2016           SQL Server 2012   \n",
       "4              Not Asked           SQL Server 2016         SQL Server 2008R2   \n",
       "5              Not Asked                Oracle R12                Oracle 11g   \n",
       "6              Not Asked           SQL Server 2016         SQL Server 2008R2   \n",
       "7              Not Asked           SQL Server 2016           SQL Server 2000   \n",
       "8              Not Asked           SQL Server 2016           SQL Server 2016   \n",
       "9              Not Asked           SQL Server 2016           SQL Server 2016   \n",
       "\n",
       "  PopulationOfLargestCityWithin20Miles                       EmploymentSector  \\\n",
       "0                 20K-99K (large town)                       Private business   \n",
       "1                     1M+ (metropolis)                       Private business   \n",
       "2                     1M+ (metropolis)                       Private business   \n",
       "3                     1M+ (metropolis)                       Private business   \n",
       "4                     100K-299K (city)                             Non-profit   \n",
       "5                     1M+ (metropolis)                       Private business   \n",
       "6                     100K-299K (city)                       Private business   \n",
       "7                 300K-1M (large city)                       Private business   \n",
       "8                 300K-1M (large city)  Education (K-12, college, university)   \n",
       "9                     100K-299K (city)                       Private business   \n",
       "\n",
       "  LookingForAnotherJob                             CareerPlansThisYear Gender  \\\n",
       "0            Not Asked          Stay with the same employer, same role   Male   \n",
       "1            Not Asked                               Prefer not to say   Male   \n",
       "2            Not Asked          Stay with the same employer, same role   Male   \n",
       "3            Not Asked                 Change both employers and roles   Male   \n",
       "4            Not Asked          Stay with the same employer, same role   Male   \n",
       "5            Not Asked          Stay with the same employer, same role   Male   \n",
       "6            Not Asked  Stay with the same employer,  but change roles   Male   \n",
       "7            Not Asked          Stay with the same employer, same role   Male   \n",
       "8            Not Asked          Stay with the same employer, same role   Male   \n",
       "9            Not Asked          Stay with the same employer, same role   Male   \n",
       "\n",
       "  OtherJobDuties KindsOfTasksPerformed  Counter  \n",
       "0      Not Asked             Not Asked        1  \n",
       "1      Not Asked             Not Asked        1  \n",
       "2      Not Asked             Not Asked        1  \n",
       "3      Not Asked             Not Asked        1  \n",
       "4      Not Asked             Not Asked        1  \n",
       "5      Not Asked             Not Asked        1  \n",
       "6      Not Asked             Not Asked        1  \n",
       "7      Not Asked             Not Asked        1  \n",
       "8      Not Asked             Not Asked        1  \n",
       "9      Not Asked             Not Asked        1  "
      ]
     },
     "execution_count": 3,
     "metadata": {},
     "output_type": "execute_result"
    }
   ],
   "source": [
    "df1.head(10)"
   ]
  },
  {
   "cell_type": "code",
   "execution_count": 4,
   "metadata": {},
   "outputs": [
    {
     "data": {
      "text/plain": [
       "Index(['Survey Year', 'Timestamp', 'SalaryUSD', 'Country', 'PostalCode',\n",
       "       'PrimaryDatabase', 'YearsWithThisDatabase', 'OtherDatabases',\n",
       "       'EmploymentStatus', 'JobTitle', 'ManageStaff', 'YearsWithThisTypeOfJob',\n",
       "       'HowManyCompanies', 'OtherPeopleOnYourTeam', 'CompanyEmployeesOverall',\n",
       "       'DatabaseServers', 'Education', 'EducationIsComputerRelated',\n",
       "       'Certifications', 'HoursWorkedPerWeek', 'TelecommuteDaysPerWeek',\n",
       "       'NewestVersionInProduction', 'OldestVersionInProduction',\n",
       "       'PopulationOfLargestCityWithin20Miles', 'EmploymentSector',\n",
       "       'LookingForAnotherJob', 'CareerPlansThisYear', 'Gender',\n",
       "       'OtherJobDuties', 'KindsOfTasksPerformed', 'Counter'],\n",
       "      dtype='object')"
      ]
     },
     "execution_count": 4,
     "metadata": {},
     "output_type": "execute_result"
    }
   ],
   "source": [
    "df1.columns"
   ]
  },
  {
   "cell_type": "code",
   "execution_count": 5,
   "metadata": {},
   "outputs": [],
   "source": [
    "key_cols = [\n",
    "    'SalaryUSD',\n",
    "    'Country',\n",
    "    'PostalCode',\n",
    "    'JobTitle',\n",
    "    'EmploymentStatus',\n",
    "    'ManageStaff',\n",
    "    'YearsWithThisTypeOfJob',\n",
    "    'HowManyCompanies',\n",
    "    'OtherPeopleOnYourTeam',\n",
    "    'CompanyEmployeesOverall',\n",
    "    'HoursWorkedPerWeek',\n",
    "    'PopulationOfLargestCityWithin20Miles',\n",
    "    'EmploymentSector',\n",
    "    'LookingForAnotherJob',\n",
    "    'CareerPlansThisYear',\n",
    "    'Gender'\n",
    "]\n",
    "\n",
    "df1 = df1[key_cols]"
   ]
  },
  {
   "cell_type": "code",
   "execution_count": 6,
   "metadata": {},
   "outputs": [],
   "source": [
    "# rename all columns\n",
    "names_cols = {\n",
    "    'SalaryUSD' : 'salary',\n",
    "    'Country' : 'location',\n",
    "    'PostalCode' : 'postal_code',\n",
    "    'JobTitle' : 'job_title',\n",
    "    'EmploymentStatus' : 'employment_status',\n",
    "    'ManageStaff' : 'manage_staff',\n",
    "    'YearsWithThisTypeOfJob' : 'experience',\n",
    "    'HowManyCompanies' : 'nb_companies',\n",
    "    'OtherPeopleOnYourTeam' : 'team_size',\n",
    "    'CompanyEmployeesOverall' : 'company_employees',\n",
    "    'HoursWorkedPerWeek' : 'hours_per_week',\n",
    "    'PopulationOfLargestCityWithin20Miles' : 'largest_city',\n",
    "    'EmploymentSector' : 'sector',\n",
    "    'LookingForAnotherJob' : 'lf_job',\n",
    "    'CareerPlansThisYear' : 'career_plans',\n",
    "    'Gender' : 'gender'\n",
    "}\n",
    "\n",
    "df1 = df1.rename(names_cols, axis=1)"
   ]
  },
  {
   "cell_type": "code",
   "execution_count": 37,
   "metadata": {},
   "outputs": [
    {
     "data": {
      "text/html": [
       "<div>\n",
       "<style scoped>\n",
       "    .dataframe tbody tr th:only-of-type {\n",
       "        vertical-align: middle;\n",
       "    }\n",
       "\n",
       "    .dataframe tbody tr th {\n",
       "        vertical-align: top;\n",
       "    }\n",
       "\n",
       "    .dataframe thead th {\n",
       "        text-align: right;\n",
       "    }\n",
       "</style>\n",
       "<table border=\"1\" class=\"dataframe\">\n",
       "  <thead>\n",
       "    <tr style=\"text-align: right;\">\n",
       "      <th></th>\n",
       "      <th>salary</th>\n",
       "      <th>location</th>\n",
       "      <th>postal_code</th>\n",
       "      <th>job_title</th>\n",
       "      <th>employment_status</th>\n",
       "      <th>manage_staff</th>\n",
       "      <th>experience</th>\n",
       "      <th>nb_companies</th>\n",
       "      <th>team_size</th>\n",
       "      <th>company_employees</th>\n",
       "      <th>hours_per_week</th>\n",
       "      <th>largest_city</th>\n",
       "      <th>sector</th>\n",
       "      <th>lf_job</th>\n",
       "      <th>career_plans</th>\n",
       "      <th>gender</th>\n",
       "    </tr>\n",
       "  </thead>\n",
       "  <tbody>\n",
       "    <tr>\n",
       "      <th>0</th>\n",
       "      <td>115000</td>\n",
       "      <td>United States</td>\n",
       "      <td>00000</td>\n",
       "      <td>DBA</td>\n",
       "      <td>Full time employee</td>\n",
       "      <td>No</td>\n",
       "      <td>5</td>\n",
       "      <td>1</td>\n",
       "      <td>2</td>\n",
       "      <td>Not Asked</td>\n",
       "      <td>40</td>\n",
       "      <td>20K-99K (large town)</td>\n",
       "      <td>Private business</td>\n",
       "      <td>Not Asked</td>\n",
       "      <td>Stay with the same employer, same role</td>\n",
       "      <td>Male</td>\n",
       "    </tr>\n",
       "    <tr>\n",
       "      <th>1</th>\n",
       "      <td>100000</td>\n",
       "      <td>United States</td>\n",
       "      <td>00000</td>\n",
       "      <td>Developer</td>\n",
       "      <td>Full time employee</td>\n",
       "      <td>No</td>\n",
       "      <td>6</td>\n",
       "      <td>1</td>\n",
       "      <td>6</td>\n",
       "      <td>Not Asked</td>\n",
       "      <td>40</td>\n",
       "      <td>1M+ (metropolis)</td>\n",
       "      <td>Private business</td>\n",
       "      <td>Not Asked</td>\n",
       "      <td>Prefer not to say</td>\n",
       "      <td>Male</td>\n",
       "    </tr>\n",
       "    <tr>\n",
       "      <th>3</th>\n",
       "      <td>70000</td>\n",
       "      <td>United States</td>\n",
       "      <td>94133</td>\n",
       "      <td>Analyst</td>\n",
       "      <td>Full time employee</td>\n",
       "      <td>No</td>\n",
       "      <td>3</td>\n",
       "      <td>1</td>\n",
       "      <td>2</td>\n",
       "      <td>Not Asked</td>\n",
       "      <td>40</td>\n",
       "      <td>1M+ (metropolis)</td>\n",
       "      <td>Private business</td>\n",
       "      <td>Not Asked</td>\n",
       "      <td>Change both employers and roles</td>\n",
       "      <td>Male</td>\n",
       "    </tr>\n",
       "    <tr>\n",
       "      <th>4</th>\n",
       "      <td>110000</td>\n",
       "      <td>United States</td>\n",
       "      <td>95354</td>\n",
       "      <td>DBA</td>\n",
       "      <td>Full time employee</td>\n",
       "      <td>No</td>\n",
       "      <td>25</td>\n",
       "      <td>3</td>\n",
       "      <td>0</td>\n",
       "      <td>Not Asked</td>\n",
       "      <td>40</td>\n",
       "      <td>100K-299K (city)</td>\n",
       "      <td>Non-profit</td>\n",
       "      <td>Not Asked</td>\n",
       "      <td>Stay with the same employer, same role</td>\n",
       "      <td>Male</td>\n",
       "    </tr>\n",
       "    <tr>\n",
       "      <th>5</th>\n",
       "      <td>79500</td>\n",
       "      <td>United States</td>\n",
       "      <td>78727</td>\n",
       "      <td>Analyst</td>\n",
       "      <td>Full time employee</td>\n",
       "      <td>No</td>\n",
       "      <td>2</td>\n",
       "      <td>1</td>\n",
       "      <td>0</td>\n",
       "      <td>Not Asked</td>\n",
       "      <td>40</td>\n",
       "      <td>1M+ (metropolis)</td>\n",
       "      <td>Private business</td>\n",
       "      <td>Not Asked</td>\n",
       "      <td>Stay with the same employer, same role</td>\n",
       "      <td>Male</td>\n",
       "    </tr>\n",
       "  </tbody>\n",
       "</table>\n",
       "</div>"
      ],
      "text/plain": [
       "   salary       location postal_code  job_title   employment_status  \\\n",
       "0  115000  United States       00000        DBA  Full time employee   \n",
       "1  100000  United States       00000  Developer  Full time employee   \n",
       "3   70000  United States       94133    Analyst  Full time employee   \n",
       "4  110000  United States       95354        DBA  Full time employee   \n",
       "5   79500  United States       78727    Analyst  Full time employee   \n",
       "\n",
       "  manage_staff  experience nb_companies  team_size company_employees  \\\n",
       "0           No           5            1          2         Not Asked   \n",
       "1           No           6            1          6         Not Asked   \n",
       "3           No           3            1          2         Not Asked   \n",
       "4           No          25            3          0         Not Asked   \n",
       "5           No           2            1          0         Not Asked   \n",
       "\n",
       "   hours_per_week          largest_city            sector     lf_job  \\\n",
       "0              40  20K-99K (large town)  Private business  Not Asked   \n",
       "1              40      1M+ (metropolis)  Private business  Not Asked   \n",
       "3              40      1M+ (metropolis)  Private business  Not Asked   \n",
       "4              40      100K-299K (city)        Non-profit  Not Asked   \n",
       "5              40      1M+ (metropolis)  Private business  Not Asked   \n",
       "\n",
       "                             career_plans gender  \n",
       "0  Stay with the same employer, same role   Male  \n",
       "1                       Prefer not to say   Male  \n",
       "3         Change both employers and roles   Male  \n",
       "4  Stay with the same employer, same role   Male  \n",
       "5  Stay with the same employer, same role   Male  "
      ]
     },
     "execution_count": 37,
     "metadata": {},
     "output_type": "execute_result"
    }
   ],
   "source": [
    "df1.head()"
   ]
  },
  {
   "cell_type": "markdown",
   "metadata": {},
   "source": [
    "## Rows selection"
   ]
  },
  {
   "cell_type": "markdown",
   "metadata": {},
   "source": [
    "### 1. Remove duplicated rows"
   ]
  },
  {
   "cell_type": "code",
   "execution_count": 38,
   "metadata": {},
   "outputs": [
    {
     "data": {
      "text/plain": [
       "False    5589\n",
       "True        1\n",
       "dtype: int64"
      ]
     },
     "execution_count": 38,
     "metadata": {},
     "output_type": "execute_result"
    }
   ],
   "source": [
    "df1.duplicated().value_counts()"
   ]
  },
  {
   "cell_type": "code",
   "execution_count": 9,
   "metadata": {},
   "outputs": [],
   "source": [
    "df1.drop_duplicates(subset=df1.columns.difference(['Timestamp']), inplace = True)"
   ]
  },
  {
   "cell_type": "markdown",
   "metadata": {},
   "source": [
    "### 2. Keep United States location only"
   ]
  },
  {
   "cell_type": "code",
   "execution_count": 10,
   "metadata": {
    "scrolled": true
   },
   "outputs": [
    {
     "data": {
      "text/plain": [
       "array(['United States', 'Spain', 'Portugal', 'United Kingdom', 'Canada',\n",
       "       'Netherlands', 'Austria', 'Belgium', 'France', 'Romania',\n",
       "       'Denmark', 'Israel', 'Australia', 'New Zealand', 'Anguilla',\n",
       "       'Sweden', 'Turkey', 'India', 'Ireland', 'Germany', 'Saudi Arabia',\n",
       "       'Russia', 'Norway', 'Ukraine', 'Serbia and Montenegro',\n",
       "       'Luxembourg', 'Poland', 'Slovakia', 'Costa Rica', 'South Africa',\n",
       "       'Hungary', 'Brazil', 'Czech Republic', 'Croatia', 'Pakistan',\n",
       "       'Lithuania', 'Macedonia', 'Italy', 'Switzerland', 'Georgia',\n",
       "       'Philippines', 'Singapore', 'Mexico', 'Greece', 'Bulgaria',\n",
       "       'Argentina', 'Slovenia', 'Puerto Rico', 'Swaziland', 'Armenia',\n",
       "       'Latvia', 'Iceland', 'Indonesia', 'Iran', 'Maldives', 'Taiwan',\n",
       "       'Uruguay', 'Vanuatu', 'Cayman Islands', 'Colombia', 'Ecuador',\n",
       "       'Peru', 'Qatar', 'Jersey', 'Finland', 'Guernsey', 'Hong Kong',\n",
       "       'El Salvador', 'Uganda', 'Guatemala', 'Jordan',\n",
       "       'United Arab Emirates', 'Malta', 'Belarus', 'Thailand',\n",
       "       'Dominican Republic', 'Ghana', 'Nepal', 'Malaysia', 'Estonia',\n",
       "       'Jamaica', 'Nicaragua', 'Moldova', 'Bahrain', 'Syria', 'Kenya',\n",
       "       'Bermuda', 'Venezuela', 'China', 'Paraguay', 'Vietnam', 'Bolivia',\n",
       "       'Albania'], dtype=object)"
      ]
     },
     "execution_count": 10,
     "metadata": {},
     "output_type": "execute_result"
    }
   ],
   "source": [
    "df1['location'].unique()"
   ]
  },
  {
   "cell_type": "code",
   "execution_count": 11,
   "metadata": {},
   "outputs": [],
   "source": [
    "df1 = df1[df1.location == 'United States']"
   ]
  },
  {
   "cell_type": "markdown",
   "metadata": {},
   "source": [
    "### 2. Remove rows where sector is student"
   ]
  },
  {
   "cell_type": "code",
   "execution_count": 12,
   "metadata": {},
   "outputs": [
    {
     "data": {
      "text/plain": [
       "array(['Private business', 'Non-profit',\n",
       "       'Education (K-12, college, university)', 'Local government',\n",
       "       'Federal government', 'State/province government', 'Student'],\n",
       "      dtype=object)"
      ]
     },
     "execution_count": 12,
     "metadata": {},
     "output_type": "execute_result"
    }
   ],
   "source": [
    "df1['sector'].unique()"
   ]
  },
  {
   "cell_type": "code",
   "execution_count": 13,
   "metadata": {
    "scrolled": true
   },
   "outputs": [
    {
     "data": {
      "text/html": [
       "<div>\n",
       "<style scoped>\n",
       "    .dataframe tbody tr th:only-of-type {\n",
       "        vertical-align: middle;\n",
       "    }\n",
       "\n",
       "    .dataframe tbody tr th {\n",
       "        vertical-align: top;\n",
       "    }\n",
       "\n",
       "    .dataframe thead th {\n",
       "        text-align: right;\n",
       "    }\n",
       "</style>\n",
       "<table border=\"1\" class=\"dataframe\">\n",
       "  <thead>\n",
       "    <tr style=\"text-align: right;\">\n",
       "      <th></th>\n",
       "      <th>salary</th>\n",
       "      <th>location</th>\n",
       "      <th>postal_code</th>\n",
       "      <th>job_title</th>\n",
       "      <th>employment_status</th>\n",
       "      <th>manage_staff</th>\n",
       "      <th>experience</th>\n",
       "      <th>nb_companies</th>\n",
       "      <th>team_size</th>\n",
       "      <th>company_employees</th>\n",
       "      <th>hours_per_week</th>\n",
       "      <th>largest_city</th>\n",
       "      <th>sector</th>\n",
       "      <th>lf_job</th>\n",
       "      <th>career_plans</th>\n",
       "      <th>gender</th>\n",
       "    </tr>\n",
       "  </thead>\n",
       "  <tbody>\n",
       "    <tr>\n",
       "      <th>0</th>\n",
       "      <td>115000.0</td>\n",
       "      <td>United States</td>\n",
       "      <td>03</td>\n",
       "      <td>DBA (Production Focus - build &amp; troubleshoot s...</td>\n",
       "      <td>Full time employee</td>\n",
       "      <td>No</td>\n",
       "      <td>5</td>\n",
       "      <td>1 (this is the only company where I've had thi...</td>\n",
       "      <td>2</td>\n",
       "      <td>Not Asked</td>\n",
       "      <td>Not Asked</td>\n",
       "      <td>20K-99K (large town)</td>\n",
       "      <td>Private business</td>\n",
       "      <td>Not Asked</td>\n",
       "      <td>Stay with the same employer, same role</td>\n",
       "      <td>Male</td>\n",
       "    </tr>\n",
       "    <tr>\n",
       "      <th>1</th>\n",
       "      <td>100000.0</td>\n",
       "      <td>United States</td>\n",
       "      <td>NaN</td>\n",
       "      <td>Developer: App code (C#, JS, etc)</td>\n",
       "      <td>Full time employee</td>\n",
       "      <td>No</td>\n",
       "      <td>6</td>\n",
       "      <td>1 (this is the only company where I've had thi...</td>\n",
       "      <td>More than 5</td>\n",
       "      <td>Not Asked</td>\n",
       "      <td>Not Asked</td>\n",
       "      <td>1M+ (metropolis)</td>\n",
       "      <td>Private business</td>\n",
       "      <td>Not Asked</td>\n",
       "      <td>Prefer not to say</td>\n",
       "      <td>Male</td>\n",
       "    </tr>\n",
       "    <tr>\n",
       "      <th>3</th>\n",
       "      <td>70000.0</td>\n",
       "      <td>United States</td>\n",
       "      <td>94133</td>\n",
       "      <td>Analyst</td>\n",
       "      <td>Full time employee</td>\n",
       "      <td>No</td>\n",
       "      <td>3</td>\n",
       "      <td>1 (this is the only company where I've had thi...</td>\n",
       "      <td>2</td>\n",
       "      <td>Not Asked</td>\n",
       "      <td>Not Asked</td>\n",
       "      <td>1M+ (metropolis)</td>\n",
       "      <td>Private business</td>\n",
       "      <td>Not Asked</td>\n",
       "      <td>Change both employers and roles</td>\n",
       "      <td>Male</td>\n",
       "    </tr>\n",
       "    <tr>\n",
       "      <th>4</th>\n",
       "      <td>110000.0</td>\n",
       "      <td>United States</td>\n",
       "      <td>95354</td>\n",
       "      <td>DBA (General - splits time evenly between writ...</td>\n",
       "      <td>Full time employee</td>\n",
       "      <td>No</td>\n",
       "      <td>25</td>\n",
       "      <td>3</td>\n",
       "      <td>None</td>\n",
       "      <td>Not Asked</td>\n",
       "      <td>Not Asked</td>\n",
       "      <td>100K-299K (city)</td>\n",
       "      <td>Non-profit</td>\n",
       "      <td>Not Asked</td>\n",
       "      <td>Stay with the same employer, same role</td>\n",
       "      <td>Male</td>\n",
       "    </tr>\n",
       "    <tr>\n",
       "      <th>5</th>\n",
       "      <td>79500.0</td>\n",
       "      <td>United States</td>\n",
       "      <td>78727</td>\n",
       "      <td>Analyst</td>\n",
       "      <td>Full time employee</td>\n",
       "      <td>No</td>\n",
       "      <td>2</td>\n",
       "      <td>1 (this is the only company where I've had thi...</td>\n",
       "      <td>None</td>\n",
       "      <td>Not Asked</td>\n",
       "      <td>Not Asked</td>\n",
       "      <td>1M+ (metropolis)</td>\n",
       "      <td>Private business</td>\n",
       "      <td>Not Asked</td>\n",
       "      <td>Stay with the same employer, same role</td>\n",
       "      <td>Male</td>\n",
       "    </tr>\n",
       "  </tbody>\n",
       "</table>\n",
       "</div>"
      ],
      "text/plain": [
       "     salary       location postal_code  \\\n",
       "0  115000.0  United States          03   \n",
       "1  100000.0  United States         NaN   \n",
       "3   70000.0  United States       94133   \n",
       "4  110000.0  United States       95354   \n",
       "5   79500.0  United States       78727   \n",
       "\n",
       "                                           job_title   employment_status  \\\n",
       "0  DBA (Production Focus - build & troubleshoot s...  Full time employee   \n",
       "1                  Developer: App code (C#, JS, etc)  Full time employee   \n",
       "3                                            Analyst  Full time employee   \n",
       "4  DBA (General - splits time evenly between writ...  Full time employee   \n",
       "5                                            Analyst  Full time employee   \n",
       "\n",
       "  manage_staff  experience                                       nb_companies  \\\n",
       "0           No           5  1 (this is the only company where I've had thi...   \n",
       "1           No           6  1 (this is the only company where I've had thi...   \n",
       "3           No           3  1 (this is the only company where I've had thi...   \n",
       "4           No          25                                                  3   \n",
       "5           No           2  1 (this is the only company where I've had thi...   \n",
       "\n",
       "     team_size company_employees hours_per_week          largest_city  \\\n",
       "0            2         Not Asked      Not Asked  20K-99K (large town)   \n",
       "1  More than 5         Not Asked      Not Asked      1M+ (metropolis)   \n",
       "3            2         Not Asked      Not Asked      1M+ (metropolis)   \n",
       "4         None         Not Asked      Not Asked      100K-299K (city)   \n",
       "5         None         Not Asked      Not Asked      1M+ (metropolis)   \n",
       "\n",
       "             sector     lf_job                            career_plans gender  \n",
       "0  Private business  Not Asked  Stay with the same employer, same role   Male  \n",
       "1  Private business  Not Asked                       Prefer not to say   Male  \n",
       "3  Private business  Not Asked         Change both employers and roles   Male  \n",
       "4        Non-profit  Not Asked  Stay with the same employer, same role   Male  \n",
       "5  Private business  Not Asked  Stay with the same employer, same role   Male  "
      ]
     },
     "execution_count": 13,
     "metadata": {},
     "output_type": "execute_result"
    }
   ],
   "source": [
    "df1 = df1[df1.sector != 'Student']\n",
    "df1.head()"
   ]
  },
  {
   "cell_type": "markdown",
   "metadata": {},
   "source": [
    "## Handling outlier errors"
   ]
  },
  {
   "cell_type": "markdown",
   "metadata": {},
   "source": [
    "### 1. Salary"
   ]
  },
  {
   "cell_type": "code",
   "execution_count": 14,
   "metadata": {
    "scrolled": true
   },
   "outputs": [
    {
     "data": {
      "image/png": "[encoded data removed]",
      "text/plain": [
       "<Figure size 720x720 with 1 Axes>"
      ]
     },
     "metadata": {
      "needs_background": "light"
     },
     "output_type": "display_data"
    }
   ],
   "source": [
    "boxplot_viz(\"salary\")"
   ]
  },
  {
   "cell_type": "markdown",
   "metadata": {},
   "source": [
    "Comme on peut le voir sur le boxplot ci-dessus, des valeurs aberrantes sont présentes (salaire inférieur au salaire minimum annuel des Etats_Unis) et d'autres extrêmes (+ 500 000 de salaire à l'année) qui risquent de fausser les calculs."
   ]
  },
  {
   "cell_type": "code",
   "execution_count": 15,
   "metadata": {
    "scrolled": false
   },
   "outputs": [],
   "source": [
    "df1['salary'] = df1['salary'].astype('int64', copy=False) # we change float type to int\n",
    "\n",
    "median_salary = df1['salary'].median()\n",
    "\n",
    "def salary_value(x):\n",
    "    if x < 13000:\n",
    "        return median_salary # Apply median when the salary indicated is lower than the minimum US salary for 1 year\n",
    "    elif x > 500000:\n",
    "        return 500000 # Apply 500000 as default salary for high values\n",
    "    else:\n",
    "        return x\n",
    "df1['salary'] = df1['salary'].apply(salary_value)"
   ]
  },
  {
   "cell_type": "markdown",
   "metadata": {},
   "source": [
    "### 2. Postal Code"
   ]
  },
  {
   "cell_type": "code",
   "execution_count": 16,
   "metadata": {},
   "outputs": [],
   "source": [
    "df1['postal_code'] = df1['postal_code'].astype('str', copy=False) # we change float type to str type in order to get length of the values \n",
    "\n",
    "def postal_code_value(x):\n",
    "    if (len(x) != 5) or (re.match(r'^([\\s\\d]+)$',x) is False): # if postal code contains something else than numbers, we apply 0 value too \n",
    "        return '00000'\n",
    "    else:\n",
    "        return x\n",
    "    \n",
    "df1['postal_code'] = df1['postal_code'].apply(postal_code_value)"
   ]
  },
  {
   "cell_type": "markdown",
   "metadata": {},
   "source": [
    "On choisit de conserver les colonnes avec des codes postaux inexacte car on souhaite conserver les autres données de la ligne pour réaliser notre visualisation."
   ]
  },
  {
   "cell_type": "markdown",
   "metadata": {},
   "source": [
    "### 3. Experience"
   ]
  },
  {
   "cell_type": "code",
   "execution_count": 17,
   "metadata": {
    "scrolled": true
   },
   "outputs": [
    {
     "data": {
      "image/png": "[encoded data removed]",
      "text/plain": [
       "<Figure size 720x720 with 1 Axes>"
      ]
     },
     "metadata": {
      "needs_background": "light"
     },
     "output_type": "display_data"
    }
   ],
   "source": [
    "boxplot_viz(\"experience\")"
   ]
  },
  {
   "cell_type": "markdown",
   "metadata": {},
   "source": [
    "Comme on peut le voir sur le boxplot ci-dessus, des valeurs aberrantes sont présentes (0 année d'expérience) et d'autres extrêmes (+ de 40 années d'expérience) risquent de fausser les calculs."
   ]
  },
  {
   "cell_type": "code",
   "execution_count": 18,
   "metadata": {},
   "outputs": [],
   "source": [
    "df1 = df1[df1.experience > 0]\n",
    "df1['experience'] = df1['experience'].apply(lambda x: 40 if x > 40 else x)"
   ]
  },
  {
   "cell_type": "markdown",
   "metadata": {},
   "source": [
    "### 4. Gender"
   ]
  },
  {
   "cell_type": "code",
   "execution_count": 19,
   "metadata": {
    "scrolled": true
   },
   "outputs": [
    {
     "data": {
      "text/plain": [
       "Male                                                    3247\n",
       "Not Asked                                               1840\n",
       "Female                                                   442\n",
       "Prefer not to say                                         37\n",
       "Non-binary/third gender                                    9\n",
       "toad frog                                                  1\n",
       "human  This is also my race.                               1\n",
       "Meat Popsicle                                              1\n",
       "Vulcan                                                     1\n",
       "This question is inappropriate.                            1\n",
       "Attack Helicopter                                          1\n",
       "Alien                                                      1\n",
       "Cyborg                                                     1\n",
       "I am Batman                                                1\n",
       "confused                                                   1\n",
       "Attack helicopter                                          1\n",
       "Attack Helicopter. (serious dude, gender questions?)       1\n",
       "Any human one                                              1\n",
       "mosquito                                                   1\n",
       "Dragon                                                     1\n",
       "Name: gender, dtype: int64"
      ]
     },
     "execution_count": 19,
     "metadata": {},
     "output_type": "execute_result"
    }
   ],
   "source": [
    "df1['gender'].value_counts()"
   ]
  },
  {
   "cell_type": "markdown",
   "metadata": {},
   "source": [
    "On constate que la série contient de nombreuses valeurs aberrantes, c'est à dire que le sexe renseigné est différent de 'Male', 'Female', 'Not Asked' ou 'Prefer not to say'"
   ]
  },
  {
   "cell_type": "code",
   "execution_count": 20,
   "metadata": {},
   "outputs": [],
   "source": [
    "def gender_value(x):\n",
    "    if x != 'Male' and x != 'Female':\n",
    "        return \"Unknow\"\n",
    "    else:\n",
    "        return x\n",
    "\n",
    "df1['gender'] = df1['gender'].apply(gender_value)"
   ]
  },
  {
   "cell_type": "markdown",
   "metadata": {},
   "source": [
    "### 5. Hours per week"
   ]
  },
  {
   "cell_type": "code",
   "execution_count": 34,
   "metadata": {
    "scrolled": true
   },
   "outputs": [
    {
     "data": {
      "text/plain": [
       "40    3024\n",
       "45     977\n",
       "50     703\n",
       "42     185\n",
       "60     165\n",
       "55     129\n",
       "35      72\n",
       "48      49\n",
       "44      48\n",
       "38      44\n",
       "43      39\n",
       "41      26\n",
       "37      23\n",
       "46      22\n",
       "30      19\n",
       "36      17\n",
       "47      14\n",
       "20       7\n",
       "32       5\n",
       "52       5\n",
       "53       4\n",
       "25       2\n",
       "24       2\n",
       "58       2\n",
       "39       2\n",
       "28       1\n",
       "59       1\n",
       "57       1\n",
       "22       1\n",
       "49       1\n",
       "Name: hours_per_week, dtype: int64"
      ]
     },
     "execution_count": 34,
     "metadata": {},
     "output_type": "execute_result"
    }
   ],
   "source": [
    "df1['hours_per_week'].value_counts()"
   ]
  },
  {
   "cell_type": "markdown",
   "metadata": {},
   "source": [
    "On constate de nombreuses valeurs aberrantes car représentant un nombre d'heures de travail trop important sur une semaine. De même, il pourrait être intéressant d'attribuer une nouvelle valeur pour les valeurs Not Asked."
   ]
  },
  {
   "cell_type": "code",
   "execution_count": 22,
   "metadata": {
    "scrolled": true
   },
   "outputs": [
    {
     "data": {
      "text/plain": [
       "40.0"
      ]
     },
     "execution_count": 22,
     "metadata": {},
     "output_type": "execute_result"
    }
   ],
   "source": [
    "df1['hours_per_week'] = df1['hours_per_week'].replace('Not Asked', 0)\n",
    "mean = df1['hours_per_week'].median()\n",
    "mean"
   ]
  },
  {
   "cell_type": "markdown",
   "metadata": {},
   "source": [
    "Comme la valeur médiane semble tout à fait cohérente, nous décidons de remplacer l'ensemble des valeur Not Asked par celle-ci."
   ]
  },
  {
   "cell_type": "code",
   "execution_count": 35,
   "metadata": {},
   "outputs": [
    {
     "data": {
      "image/png": "[encoded data removed]",
      "text/plain": [
       "<Figure size 720x720 with 1 Axes>"
      ]
     },
     "metadata": {
      "needs_background": "light"
     },
     "output_type": "display_data"
    }
   ],
   "source": [
    "df1['hours_per_week'] = df1['hours_per_week'].replace(0, mean)\n",
    "boxplot_viz(\"hours_per_week\")"
   ]
  },
  {
   "cell_type": "code",
   "execution_count": 33,
   "metadata": {},
   "outputs": [],
   "source": [
    "df1['hours_per_week'] = df1['hours_per_week'].apply(lambda x: 60 if x > 60 else 20 if x < 20 else x)"
   ]
  },
  {
   "cell_type": "markdown",
   "metadata": {},
   "source": [
    "## Value grouping"
   ]
  },
  {
   "cell_type": "markdown",
   "metadata": {},
   "source": [
    "### 1. Job title"
   ]
  },
  {
   "cell_type": "code",
   "execution_count": 25,
   "metadata": {},
   "outputs": [
    {
     "data": {
      "text/plain": [
       "array(['DBA (Production Focus - build & troubleshoot servers, HA/DR)',\n",
       "       'Developer: App code (C#, JS, etc)', 'Analyst',\n",
       "       'DBA (General - splits time evenly between writing & tuning queries AND building & troubleshooting servers)',\n",
       "       'Developer: Business Intelligence (SSRS, PowerBI, etc)',\n",
       "       'Engineer', 'Manager', 'Developer: T-SQL', 'Architect', 'Other',\n",
       "       'Data Scientist',\n",
       "       'DBA (Development Focus - tunes queries, indexes, does deployments)',\n",
       "       'DBA', 'Analytics consultant', 'Systems Administrator',\n",
       "       'Consultant', 'Database Specialist', 'Technician ',\n",
       "       'DevOps, Sr Software Engineer DBA', 'Principal database engineer'],\n",
       "      dtype=object)"
      ]
     },
     "execution_count": 25,
     "metadata": {},
     "output_type": "execute_result"
    }
   ],
   "source": [
    "df1['job_title'].unique()"
   ]
  },
  {
   "cell_type": "markdown",
   "metadata": {},
   "source": [
    "On observe qu'une même fonction peut avoir plusieurs dénominations. On décide d'attribuer la même valeur lorsque les dénominations sont relativement proches. "
   ]
  },
  {
   "cell_type": "code",
   "execution_count": 26,
   "metadata": {},
   "outputs": [],
   "source": [
    "def job_title_value(x):\n",
    "    if 'DBA' in x:\n",
    "        return 'DBA'\n",
    "    elif 'Developer' in x:\n",
    "        return 'Developer'\n",
    "    elif 'Consultant' in x:\n",
    "        return 'Consultant'\n",
    "    else:\n",
    "        return x\n",
    "\n",
    "df1['job_title'] = df1['job_title'].apply(job_title_value)\n",
    "\n",
    "s = df1[\"job_title\"].value_counts()\n",
    "df1.loc[df1[\"job_title\"].isin(s[(s < 5)].index), \"job_title\"] = \"Other\" # Apply 'Other' to all value with an occurence inferior to five"
   ]
  },
  {
   "cell_type": "markdown",
   "metadata": {},
   "source": [
    "### 2. Team size"
   ]
  },
  {
   "cell_type": "code",
   "execution_count": 27,
   "metadata": {
    "scrolled": true
   },
   "outputs": [
    {
     "data": {
      "text/plain": [
       "None           2252\n",
       "1              1140\n",
       "2               639\n",
       "More than 5     543\n",
       "3               493\n",
       "4               316\n",
       "5               207\n",
       "Name: team_size, dtype: int64"
      ]
     },
     "execution_count": 27,
     "metadata": {},
     "output_type": "execute_result"
    }
   ],
   "source": [
    "df1['team_size'].value_counts()"
   ]
  },
  {
   "cell_type": "code",
   "execution_count": 28,
   "metadata": {},
   "outputs": [],
   "source": [
    "# def team_size_value(x):\n",
    "#     if x == 'More than 5':\n",
    "#         return 6\n",
    "#     elif x is None:\n",
    "#         return 0\n",
    "#     else:\n",
    "#         return x\n",
    "\n",
    "df1['team_size'].replace(\"None\", np.nan, inplace=True)\n",
    "\n",
    "df1['team_size'] = df1['team_size'].apply(lambda x: 6 if x == 'More than 5' else 0 if np.isnan(x) else x) # Apply value 0 when original value is NaN"
   ]
  },
  {
   "cell_type": "code",
   "execution_count": 29,
   "metadata": {},
   "outputs": [],
   "source": [
    "df1['salary'] = df1['salary'].astype('int64', copy=False) # Change float type to int"
   ]
  },
  {
   "cell_type": "markdown",
   "metadata": {},
   "source": [
    "### 3. number of companies"
   ]
  },
  {
   "cell_type": "code",
   "execution_count": 36,
   "metadata": {},
   "outputs": [
    {
     "data": {
      "text/plain": [
       "Not Asked    3842\n",
       "1             608\n",
       "2             519\n",
       "3             312\n",
       "4             122\n",
       "6             101\n",
       "5              86\n",
       "Name: nb_companies, dtype: int64"
      ]
     },
     "execution_count": 36,
     "metadata": {},
     "output_type": "execute_result"
    }
   ],
   "source": [
    "df1['nb_companies'].value_counts()"
   ]
  },
  {
   "cell_type": "code",
   "execution_count": 31,
   "metadata": {},
   "outputs": [],
   "source": [
    "df1[\"nb_companies\"] = df1[\"nb_companies\"].apply(lambda x: \"1\" if str(x).startswith('1') \n",
    "                                                else \"2\" if str(x).startswith('2')\n",
    "                                                else \"6\" if str(x).startswith('6')\n",
    "                                                else x)"
   ]
  }
 ],
 "metadata": {
  "kernelspec": {
   "display_name": "Python 3",
   "language": "python",
   "name": "python3"
  },
  "language_info": {
   "codemirror_mode": {
    "name": "ipython",
    "version": 3
   },
   "file_extension": ".py",
   "mimetype": "text/x-python",
   "name": "python",
   "nbconvert_exporter": "python",
   "pygments_lexer": "ipython3",
   "version": "3.7.3"
  }
 },
 "nbformat": 4,
 "nbformat_minor": 2
}
